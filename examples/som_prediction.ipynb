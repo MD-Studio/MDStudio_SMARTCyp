{
 "cells": [
  {
   "cell_type": "code",
   "execution_count": null,
   "metadata": {},
   "outputs": [],
   "source": [
    "%%javascript\n",
    "IPython.OutputArea.prototype._should_scroll = function(lines) {\n",
    "    return false;\n",
    "}"
   ]
  },
  {
   "cell_type": "code",
   "execution_count": null,
   "metadata": {},
   "outputs": [],
   "source": [
    "import os\n",
    "import requests\n",
    "import pandas\n",
    "\n",
    "from rdkit import Chem\n",
    "from rdkit.Chem.Draw import IPythonConsole, rdMolDraw2D\n",
    "from IPython.display import HTML\n",
    "\n",
    "no_wrap_div = '<div style=\"white-space: nowrap\">{}{}</div>'\n",
    "\n",
    "#SERVICE_BASE_URL = 'http://mdstudio-smartcyp.dev.openrisknet.org/'\n",
    "SERVICE_BASE_URL = 'http://localhost:8081'"
   ]
  },
  {
   "cell_type": "code",
   "execution_count": null,
   "metadata": {},
   "outputs": [],
   "source": [
    "mol_files = ['/Volumes/Arabica/WorkTeaching/bproject_X_430533_2019/ligands_spores/aminopyrine.mol2',\n",
    "             '/Volumes/Arabica/WorkTeaching/bproject_X_430533_2019/ligands_spores/estradiol.mol2',\n",
    "             '/Volumes/Arabica/WorkTeaching/bproject_X_430533_2019/ligands_spores/methadone.mol2']\n",
    "# 12, 13 2D6\n",
    "# 8, 9, 11, 15 2D6\n",
    "# 20, 21 2D6"
   ]
  },
  {
   "cell_type": "code",
   "execution_count": null,
   "metadata": {},
   "outputs": [],
   "source": [
    "def show_predictions(mol, prob, cutoff=0.75):\n",
    "    \"\"\"\n",
    "    Build 2D depiction of rdkit molecule\n",
    "    Label atoms with index number and SOM prediction probabilities if\n",
    "    above cutoff.\n",
    "    \"\"\"\n",
    "    \n",
    "    prob_dict = dict([(int(a.split('.')[1]), b) for a,b in prob.items()])\n",
    "    \n",
    "    Chem.rdDepictor.Compute2DCoords(mol)\n",
    "    for atom in mol.GetAtoms():\n",
    "        idx = atom.GetIdx() + 1\n",
    "        atom.SetProp('molAtomMapNumber', '{0}-{1:.2f}'.format(idx, prob_dict.get(idx, 0.0)))\n",
    "    \n",
    "    drawer = rdMolDraw2D.MolDraw2DSVG(400,250)\n",
    "    drawer.DrawMolecule(mol, highlightAtoms=[i-1 for i in prob_dict if prob_dict[i] >= cutoff])\n",
    "    drawer.FinishDrawing()\n",
    "    return drawer.GetDrawingText().replace('svg:','')"
   ]
  },
  {
   "cell_type": "code",
   "execution_count": null,
   "metadata": {},
   "outputs": [],
   "source": [
    "data = {'cyp': '2D6', 'cluster_structures': 50}\n",
    "for mol in mol_files:\n",
    "    files = {'ligand_file': open(mol, 'rb').read()}\n",
    "    \n",
    "    # Get SMARTCyp prediction\n",
    "    response = requests.post('{0}/som_prediction'.format(SERVICE_BASE_URL), files=files, data=data)\n",
    "    response_json = response.json() \n",
    "    response_df = pandas.DataFrame.from_dict(response_json, orient='index')\n",
    "    response_df_prob = response_df[['Docking', 'SMARTCyp']].fillna(0).round(3)\n",
    "    \n",
    "    # Draw molecule\n",
    "    rdmol = Chem.rdmolfiles.MolFromMol2File(mol)\n",
    "    dock_svg = show_predictions(rdmol, response_df_prob['Docking'])\n",
    "    smart_svg = show_predictions(rdmol, response_df_prob['SMARTCyp'])\n",
    "    \n",
    "    display(HTML('<h3 align=\"center\">{0}</h3>'.format(os.path.basename(mol).split('.')[0])))\n",
    "    display(HTML(no_wrap_div.format(dock_svg, smart_svg)))\n",
    "    display(response_df_prob.T)"
   ]
  },
  {
   "cell_type": "code",
   "execution_count": null,
   "metadata": {},
   "outputs": [],
   "source": [
    "p = \"http://fame3.dev.openrisknet.org/predict\"\n",
    "response = requests.get(p, params={'smiles': 'C1=CC(=C(C(=C1)C(=O)C2=CC=C(C=C2)Br)N)CC(=O)O'},\n",
    "                        headers={\"accept\" : \"application/json\"})\n",
    "response_json = response.json() \n",
    "print(response_json)"
   ]
  },
  {
   "cell_type": "code",
   "execution_count": null,
   "metadata": {},
   "outputs": [],
   "source": []
  }
 ],
 "metadata": {
  "kernelspec": {
   "display_name": "Python 3",
   "language": "python",
   "name": "python3"
  },
  "language_info": {
   "codemirror_mode": {
    "name": "ipython",
    "version": 3
   },
   "file_extension": ".py",
   "mimetype": "text/x-python",
   "name": "python",
   "nbconvert_exporter": "python",
   "pygments_lexer": "ipython3",
   "version": "3.6.5"
  }
 },
 "nbformat": 4,
 "nbformat_minor": 2
}
