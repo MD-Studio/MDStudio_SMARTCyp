{
 "cells": [
  {
   "cell_type": "code",
   "execution_count": null,
   "metadata": {},
   "outputs": [],
   "source": [
    "%%javascript\n",
    "IPython.OutputArea.prototype._should_scroll = function(lines) {\n",
    "    return false;\n",
    "}"
   ]
  },
  {
   "cell_type": "code",
   "execution_count": null,
   "metadata": {},
   "outputs": [],
   "source": [
    "import os\n",
    "import requests\n",
    "import pandas\n",
    "\n",
    "from rdkit import Chem\n",
    "from rdkit.Chem.Draw import rdMolDraw2D\n",
    "from IPython.display import HTML\n",
    "from example_helpers import *\n",
    "\n",
    "MDSTUDIO_URL = 'http://mdstudio-smartcyp.dev.openrisknet.org/'\n",
    "FAME_URL = 'http://fame3.dev.openrisknet.org'\n",
    "METPRED_URL = 'http://metpred.prod.openrisknet.org/v2'\n",
    "\n",
    "data = get_dataset()"
   ]
  },
  {
   "cell_type": "markdown",
   "metadata": {},
   "source": [
    "## SOM prediction comparing Docking, SMARTCyp and FAME"
   ]
  },
  {
   "cell_type": "code",
   "execution_count": null,
   "metadata": {},
   "outputs": [],
   "source": [
    "selection = ('sitaxentan', 'flucloxacillin', 'pioglitazone')\n",
    "for case_name in selection:\n",
    "    \n",
    "    case_data = data[case_name]\n",
    "    \n",
    "    # Get SMARTCyp prediction\n",
    "    response = requests.post('{0}/som_prediction'.format(MDSTUDIO_URL),\n",
    "                             files={'ligand_file': case_data['mol2']}, data={'cyp': '3A4'}) \n",
    "    response_df = pandas.DataFrame.from_dict(response.json(), orient='index')\n",
    "    \n",
    "    # Get FAME3 prediction\n",
    "    response = requests.post('{0}/predictFromFiles'.format(FAME_URL), files={'files': case_data['mol']},\n",
    "                             data={'includeMDL': False}, headers={\"accept\" : \"application/json\"})\n",
    "    response_df, famecutoff = process_fame_results(response.json(), response_df)\n",
    "    \n",
    "    # Get MetPred prediction\n",
    "    response = requests.get('{0}/prediction'.format(METPRED_URL), params={'compound': case_data['mol']})\n",
    "    response_df, metpredcutoff = process_metpred_results(response.json(), response_df)\n",
    "    \n",
    "    # Draw molecule\n",
    "    response_df_prob = response_df[['Docking', 'SMARTCyp', 'Fame', 'MetPred', 'MetPred reaction']].fillna(0)\n",
    "    rdmol = Chem.rdmolfiles.MolFromMol2File('{0}.mol2'.format(case_name), sanitize=False)\n",
    "    dock_svg = show_predictions(rdmol, response_df_prob['Docking'])\n",
    "    smart_svg = show_predictions(rdmol, response_df_prob['SMARTCyp'])\n",
    "    fame_svg = show_predictions(rdmol, response_df_prob['Fame'], cutoff=famecutoff)\n",
    "    metpred_svg = show_predictions(rdmol, response_df_prob['MetPred'], cutoff=metpredcutoff)\n",
    "    \n",
    "    # Display Pandas Dataframe and 2D depictions\n",
    "    display(HTML('<h3 align=\"center\">{0}</h3>'.format(case_name)))\n",
    "    display(HTML(no_wrap_div.format(dock_svg, smart_svg, fame_svg, metpred_svg)))\n",
    "    display(style_dataframe(response_df_prob, fame_cutoff=famecutoff))"
   ]
  }
 ],
 "metadata": {
  "kernelspec": {
   "display_name": "Python 3",
   "language": "python",
   "name": "python3"
  },
  "language_info": {
   "codemirror_mode": {
    "name": "ipython",
    "version": 3
   },
   "file_extension": ".py",
   "mimetype": "text/x-python",
   "name": "python",
   "nbconvert_exporter": "python",
   "pygments_lexer": "ipython3",
   "version": "3.6.5"
  }
 },
 "nbformat": 4,
 "nbformat_minor": 2
}
