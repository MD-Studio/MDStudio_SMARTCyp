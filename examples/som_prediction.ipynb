{
 "cells": [
  {
   "cell_type": "code",
   "execution_count": null,
   "metadata": {},
   "outputs": [],
   "source": [
    "%%javascript\n",
    "IPython.OutputArea.prototype._should_scroll = function(lines) {\n",
    "    return false;\n",
    "}"
   ]
  },
  {
   "cell_type": "code",
   "execution_count": null,
   "metadata": {},
   "outputs": [],
   "source": [
    "import os\n",
    "import requests\n",
    "import pandas\n",
    "\n",
    "from rdkit import Chem\n",
    "from rdkit.Chem.Draw import rdMolDraw2D\n",
    "from IPython.display import HTML\n",
    "\n",
    "from example_helpers import show_predictions, no_wrap_div, get_dataset\n",
    "\n",
    "MDSTUDIO_URL = 'http://mdstudio-smartcyp.dev.openrisknet.org/'\n",
    "#MDSTUDIO_URL = 'http://localhost:8081'\n",
    "FAME_URL = 'http://fame3.dev.openrisknet.org/'\n",
    "\n",
    "data = get_dataset()"
   ]
  },
  {
   "cell_type": "code",
   "execution_count": null,
   "metadata": {},
   "outputs": [],
   "source": [
    "for case_name, case_data in data.items():\n",
    "    \n",
    "    # Get SMARTCyp prediction\n",
    "    response = requests.post('{0}/som_prediction'.format(MDSTUDIO_URL),\n",
    "                             files={'ligand_file': case_data['file']}, data={'cyp': case_data['cyp']}) \n",
    "    response_df = pandas.DataFrame.from_dict(response.json(), orient='index')\n",
    "    response_df_prob = response_df[['Docking', 'SMARTCyp']].fillna(0).round(3)\n",
    "    \n",
    "    # Draw molecule\n",
    "    rdmol = Chem.rdmolfiles.MolFromMol2File('{0}.mol2'.format(case_name))\n",
    "    dock_svg = show_predictions(rdmol, response_df_prob['Docking'])\n",
    "    smart_svg = show_predictions(rdmol, response_df_prob['SMARTCyp'])\n",
    "    \n",
    "    display(HTML('<h3 align=\"center\">{0}</h3>'.format(case_name)))\n",
    "    display(HTML(no_wrap_div.format(dock_svg, smart_svg)))\n",
    "    display(response_df_prob.T)"
   ]
  },
  {
   "cell_type": "code",
   "execution_count": null,
   "metadata": {},
   "outputs": [],
   "source": [
    "for case_name, case_data in data.items():\n",
    "    \n",
    "    response = requests.get('{0}/predict'.format(FAME_URL), params={'smiles': case['smiles']},\n",
    "                             headers={\"accept\" : \"application/json\"})\n",
    "    response_json = response.json()\n",
    "    print(response_json['predictions'][0]['atomPredictions'])"
   ]
  }
 ],
 "metadata": {
  "kernelspec": {
   "display_name": "Python 3",
   "language": "python",
   "name": "python3"
  },
  "language_info": {
   "codemirror_mode": {
    "name": "ipython",
    "version": 3
   },
   "file_extension": ".py",
   "mimetype": "text/x-python",
   "name": "python",
   "nbconvert_exporter": "python",
   "pygments_lexer": "ipython3",
   "version": "3.6.5"
  }
 },
 "nbformat": 4,
 "nbformat_minor": 2
}
